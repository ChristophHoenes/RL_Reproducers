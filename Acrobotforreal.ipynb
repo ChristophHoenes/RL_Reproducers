{
 "cells": [
  {
   "cell_type": "markdown",
   "metadata": {},
   "source": [
    "# Reinforcement Learning - Deep Q Network\n",
    "If you want to test/submit your solution **restart the kernel, run all cells and submit the dqn_autograde.py file into codegrade.**"
   ]
  },
  {
   "cell_type": "code",
   "execution_count": 1,
   "metadata": {},
   "outputs": [],
   "source": [
    "from custommagics import CustomMagics\n",
    "get_ipython().register_magics(CustomMagics)"
   ]
  },
  {
   "cell_type": "code",
   "execution_count": 2,
   "metadata": {},
   "outputs": [
    {
     "name": "stdout",
     "output_type": "stream",
     "text": [
      "Overwriting dqn_autograde.py\n"
     ]
    }
   ],
   "source": [
    "%%execwritefile dqn_autograde.py\n",
    "import numpy as np\n",
    "import random\n",
    "import torch\n",
    "from torch import nn\n",
    "import torch.nn.functional as F\n",
    "from torch import optim\n",
    "from tqdm import tqdm as _tqdm\n",
    "\n",
    "def tqdm(*args, **kwargs):\n",
    "    return _tqdm(*args, **kwargs, mininterval=1)  # Safety, do not overflow buffer"
   ]
  },
  {
   "cell_type": "code",
   "execution_count": 3,
   "metadata": {
    "nbgrader": {
     "grade": false,
     "grade_id": "cell-fc69f22067705372",
     "locked": true,
     "schema_version": 1,
     "solution": false
    }
   },
   "outputs": [],
   "source": [
    "%matplotlib inline\n",
    "import matplotlib.pyplot as plt\n",
    "import sys\n",
    "import time\n",
    "\n",
    "assert sys.version_info[:3] >= (3, 6, 0), \"Make sure you have Python 3.6 installed!\""
   ]
  },
  {
   "cell_type": "markdown",
   "metadata": {
    "nbgrader": {
     "grade": false,
     "grade_id": "cell-fef7e20e54e6243b",
     "locked": true,
     "schema_version": 1,
     "solution": false
    }
   },
   "source": [
    "## 1. Deep Q-Network (DQN)"
   ]
  },
  {
   "cell_type": "code",
   "execution_count": 4,
   "metadata": {
    "nbgrader": {
     "grade": true,
     "grade_id": "cell-39519f4ab05eb2a1",
     "locked": true,
     "points": 0,
     "schema_version": 1,
     "solution": false
    }
   },
   "outputs": [
    {
     "name": "stdout",
     "output_type": "stream",
     "text": [
      "\u001b[33mWARN: gym.spaces.Box autodetected dtype as <class 'numpy.float32'>. Please provide explicit dtype.\u001b[0m\n"
     ]
    },
    {
     "name": "stderr",
     "output_type": "stream",
     "text": [
      "/opt/anaconda3/envs/rl2020/lib/python3.7/site-packages/gym/envs/registration.py:14: PkgResourcesDeprecationWarning: Parameters to load are deprecated.  Call .resolve and .require separately.\n",
      "  result = entry_point.load(False)\n"
     ]
    }
   ],
   "source": [
    "import gym\n",
    "env = gym.envs.make(\"Acrobot-v1\")"
   ]
  },
  {
   "cell_type": "code",
   "execution_count": 5,
   "metadata": {},
   "outputs": [],
   "source": [
    "# env is a TimeLimit wrapper around an env, so use env.env to look into the env (but otherwise you can forget about this)\n",
    "??env.env"
   ]
  },
  {
   "cell_type": "code",
   "execution_count": 6,
   "metadata": {},
   "outputs": [],
   "source": [
    "# The nice thing about the CARTPOLE is that it has very nice rendering functionality (if you are on a local environment). Let's have a look at an episode\n",
    "# obs = env.reset()\n",
    "# env.render()\n",
    "# done = False\n",
    "# while not done:\n",
    "#     obs, reward, done, _ = env.step(env.action_space.sample())\n",
    "#     env.render()\n",
    "#     time.sleep(0.05)\n",
    "# env.close()  # Close the environment or you will have a lot of render screens soon"
   ]
  },
  {
   "cell_type": "markdown",
   "metadata": {
    "nbgrader": {
     "grade": false,
     "grade_id": "cell-2d83f70e62b99520",
     "locked": true,
     "schema_version": 1,
     "solution": false
    }
   },
   "source": [
    "Remember from the previous lab, that in order to optimize a policy we need to estimate the Q-values (e.g. estimate the *action* values). In the CartPole problem, our state is current position of the cart, the current velocity of the cart, the current (angular) position of the pole and the (angular) speed of the pole. As these are continuous variables, we have an infinite number of states (ignoring the fact that a digital computer can only represent finitely many states in finite memory)."
   ]
  },
  {
   "cell_type": "markdown",
   "metadata": {
    "nbgrader": {
     "grade": false,
     "grade_id": "cell-0b3162496f5e6cf5",
     "locked": true,
     "schema_version": 1,
     "solution": false
    }
   },
   "source": [
    "### 2.1 Implement Q-Network"
   ]
  },
  {
   "cell_type": "markdown",
   "metadata": {
    "nbgrader": {
     "grade": false,
     "grade_id": "cell-96a86bcfa1ebc84a",
     "locked": true,
     "schema_version": 1,
     "solution": false
    }
   },
   "source": [
    "We will not use the tabular approach but approximate the Q-value function by a general approximator function. We will skip the linear case and directly use a two layer Neural Network. We use [PyTorch](https://pytorch.org/) to implement the network, as this will allow us to train it easily later. We can implement a model using `torch.nn.Sequential`, but with PyTorch it is actually very easy to implement the model (e.g. the forward pass) from scratch. Now implement the `QNetwork.forward` function that uses one hidden layer with ReLU activation (no output activation)."
   ]
  },
  {
   "cell_type": "code",
   "execution_count": 7,
   "metadata": {
    "nbgrader": {
     "grade": false,
     "grade_id": "cell-216429a5dccf8a0e",
     "locked": false,
     "schema_version": 1,
     "solution": true
    }
   },
   "outputs": [
    {
     "name": "stdout",
     "output_type": "stream",
     "text": [
      "Appending to dqn_autograde.py\n"
     ]
    }
   ],
   "source": [
    "%%execwritefile -a dqn_autograde.py\n",
    "\n",
    "class QNetwork(nn.Module):\n",
    "    \n",
    "    def __init__(self, num_hidden=128):\n",
    "        nn.Module.__init__(self)\n",
    "        self.l1 = nn.Linear(6, num_hidden)\n",
    "        self.l2 = nn.Linear(num_hidden, 3)\n",
    "\n",
    "    def forward(self, x):\n",
    "        # YOUR CODE HERE\n",
    "        out = self.l1(x)\n",
    "        out = F.relu(out)\n",
    "        out = self.l2(out)\n",
    "        \n",
    "        return out"
   ]
  },
  {
   "cell_type": "code",
   "execution_count": 8,
   "metadata": {
    "nbgrader": {
     "grade": true,
     "grade_id": "cell-00ce108d640a5942",
     "locked": true,
     "points": 1,
     "schema_version": 1,
     "solution": false
    }
   },
   "outputs": [
    {
     "name": "stdout",
     "output_type": "stream",
     "text": [
      "tensor([[0.4707, 0.7595, 0.5687, 0.8585, 0.6079, 0.4938],\n",
      "        [0.5709, 0.8333, 0.5755, 0.8522, 0.4526, 0.5043],\n",
      "        [0.9201, 0.0280, 0.5499, 0.9567, 0.2491, 0.4078],\n",
      "        [0.4699, 0.6647, 0.6890, 0.6133, 0.6972, 0.2855],\n",
      "        [0.7104, 0.3415, 0.8142, 0.3533, 0.0742, 0.5357],\n",
      "        [0.7602, 0.4804, 0.5065, 0.5018, 0.7654, 0.5391],\n",
      "        [0.0533, 0.1434, 0.5296, 0.4599, 0.9779, 0.3825],\n",
      "        [0.8827, 0.0783, 0.0248, 0.4540, 0.1834, 0.3542],\n",
      "        [0.5563, 0.0663, 0.8436, 0.1966, 0.8836, 0.6634],\n",
      "        [0.4062, 0.0624, 0.5828, 0.2207, 0.9321, 0.0794]])\n"
     ]
    }
   ],
   "source": [
    "# Let's instantiate and test if it works\n",
    "num_hidden = 128\n",
    "torch.manual_seed(1)\n",
    "Q_net = QNetwork(num_hidden)\n",
    "\n",
    "torch.manual_seed(1)\n",
    "test_model = nn.Sequential(\n",
    "    nn.Linear(6, num_hidden), \n",
    "    nn.ReLU(), \n",
    "    nn.Linear(num_hidden, 3)\n",
    ")\n",
    "\n",
    "x = torch.rand(10, 6)\n",
    "print(x)\n",
    "\n",
    "# If you do not need backpropagation, wrap the computation in the torch.no_grad() context\n",
    "# This saves time and memory, and PyTorch complaints when converting to numpy\n",
    "with torch.no_grad():\n",
    "    assert np.allclose(Q_net(x).numpy(), test_model(x).numpy())"
   ]
  },
  {
   "cell_type": "markdown",
   "metadata": {
    "nbgrader": {
     "grade": false,
     "grade_id": "cell-ca77eae2e62180cf",
     "locked": true,
     "schema_version": 1,
     "solution": false
    }
   },
   "source": [
    "### 2.2 Experience Replay"
   ]
  },
  {
   "cell_type": "markdown",
   "metadata": {
    "nbgrader": {
     "grade": false,
     "grade_id": "cell-2c1d117a1a75fd69",
     "locked": true,
     "schema_version": 1,
     "solution": false
    }
   },
   "source": [
    "In order to stabilize learning, we will use an experience replay to save states in and sample states from. Now implement the `push` function that adds a transition to the replay buffer, and the `sample` function that samples a (random!) batch of data, for use during training (hint: you can use the function `random.sample`). It should keep at most the maximum number of transitions."
   ]
  },
  {
   "cell_type": "code",
   "execution_count": 9,
   "metadata": {
    "nbgrader": {
     "grade": false,
     "grade_id": "cell-a3cc876e51eb157f",
     "locked": false,
     "schema_version": 1,
     "solution": true
    }
   },
   "outputs": [
    {
     "name": "stdout",
     "output_type": "stream",
     "text": [
      "Appending to dqn_autograde.py\n"
     ]
    }
   ],
   "source": [
    "%%execwritefile -a dqn_autograde.py\n",
    "\n",
    "class ReplayMemory:\n",
    "    \n",
    "    def __init__(self, capacity):\n",
    "        self.capacity = capacity\n",
    "        self.memory = []\n",
    "        \n",
    "    def push(self, transition):\n",
    "        # YOUR CODE HERE\n",
    "        if len(self.memory) >= self.capacity:\n",
    "            # remove first entry\n",
    "            self.memory.pop(0)\n",
    "        # fill memory\n",
    "        self.memory.append(transition)\n",
    "\n",
    "\n",
    "    def sample(self, batch_size):\n",
    "        # YOUR CODE HERE\n",
    "        return random.sample(self.memory, batch_size)\n",
    "\n",
    "    def __len__(self):\n",
    "        return len(self.memory)"
   ]
  },
  {
   "cell_type": "code",
   "execution_count": 10,
   "metadata": {
    "nbgrader": {
     "grade": true,
     "grade_id": "cell-3b90135921c4da76",
     "locked": true,
     "points": 1,
     "schema_version": 1,
     "solution": false
    }
   },
   "outputs": [
    {
     "name": "stdout",
     "output_type": "stream",
     "text": [
      "----\n",
      "[(array([ 0.99999185,  0.0040381 ,  0.99686227, -0.0791556 , -0.02682791,\n",
      "        0.09843725]), 0, -1.0, array([ 0.99994672,  0.01032292,  0.99629238, -0.08603193,  0.08801149,\n",
      "       -0.16493741]), False)]\n"
     ]
    }
   ],
   "source": [
    "capacity = 10\n",
    "memory = ReplayMemory(capacity)\n",
    "\n",
    "# Sample a transition\n",
    "s = env.reset()\n",
    "a = env.action_space.sample()\n",
    "s_next, r, done, _ = env.step(a)\n",
    "\n",
    "# Push a transition\n",
    "memory.push((s, a, r, s_next, done))\n",
    "\n",
    "# Sample a batch size of 1\n",
    "print('----')\n",
    "print(memory.sample(1))"
   ]
  },
  {
   "cell_type": "markdown",
   "metadata": {
    "nbgrader": {
     "grade": false,
     "grade_id": "cell-88f67e3c051da6a9",
     "locked": true,
     "schema_version": 1,
     "solution": false
    }
   },
   "source": [
    "### 2.3 $\\epsilon$psilon greedy policy"
   ]
  },
  {
   "cell_type": "markdown",
   "metadata": {
    "nbgrader": {
     "grade": false,
     "grade_id": "cell-aa3c7d1b3000f697",
     "locked": true,
     "schema_version": 1,
     "solution": false
    }
   },
   "source": [
    "In order to learn a good policy, we need to explore quite a bit initially. As we start to learn a good policy, we want to decrease the exploration. As the amount of exploration using an $\\epsilon$-greedy policy is controlled by $\\epsilon$, we can define an 'exploration scheme' by writing $\\epsilon$ as a function of time. There are many possible schemes, but we will use a simple one: we will start with only exploring (so taking random actions) at iteration 0, and then in 1000 iterations linearly anneal $\\epsilon$ such that after 1000 iterations we take random (exploration) actions with 5\\% probability (forever, as you never know if the environment will change)."
   ]
  },
  {
   "cell_type": "code",
   "execution_count": 11,
   "metadata": {
    "nbgrader": {
     "grade": false,
     "grade_id": "cell-5789e7a792108576",
     "locked": false,
     "schema_version": 1,
     "solution": true
    }
   },
   "outputs": [
    {
     "name": "stdout",
     "output_type": "stream",
     "text": [
      "Appending to dqn_autograde.py\n"
     ]
    }
   ],
   "source": [
    "%%execwritefile -a dqn_autograde.py\n",
    "\n",
    "def get_epsilon(it):\n",
    "    # YOUR CODE HERE\n",
    "    \n",
    "    # prob of taking greedy action\n",
    "    greedy = 0.0\n",
    "    if it > 1000:\n",
    "        # greedy capped at 0.95\n",
    "        greedy = 0.95\n",
    "    else:\n",
    "        # interpolation betw. 0.0 and 0.95\n",
    "        greedy = it * 0.95 / 1000\n",
    "    \n",
    "    epsilon = 1.0 - greedy\n",
    "    return epsilon"
   ]
  },
  {
   "cell_type": "code",
   "execution_count": 12,
   "metadata": {
    "nbgrader": {
     "grade": true,
     "grade_id": "cell-40e66db45e742b2e",
     "locked": true,
     "points": 1,
     "schema_version": 1,
     "solution": false
    }
   },
   "outputs": [
    {
     "data": {
      "text/plain": [
       "[<matplotlib.lines.Line2D at 0x7fd4a8a736d8>]"
      ]
     },
     "execution_count": 12,
     "metadata": {},
     "output_type": "execute_result"
    },
    {
     "data": {
      "image/png": "[encoded data removed]",
      "text/plain": [
       "<Figure size 432x288 with 1 Axes>"
      ]
     },
     "metadata": {
      "needs_background": "light"
     },
     "output_type": "display_data"
    }
   ],
   "source": [
    "# So what's an easy way to check?\n",
    "plt.plot([get_epsilon(it) for it in range(5000)])"
   ]
  },
  {
   "cell_type": "markdown",
   "metadata": {
    "nbgrader": {
     "grade": false,
     "grade_id": "cell-a8b604c9998c6c3b",
     "locked": true,
     "schema_version": 1,
     "solution": false
    }
   },
   "source": [
    "Now write a function of *EpsilonGreedyPolicy* class. This function takes a state and uses the Q-network to select an ($\\epsilon$-greedy) action. It should return a random action with probability epsilon. Note, you do not need to backpropagate through the model computations, so use `with torch.no_grad():` (see above for example). Note that to convert a PyTorch tensor with only 1 element (0 dimensional) to a simple python scalar (int or float), you can use the '.item()' function."
   ]
  },
  {
   "cell_type": "code",
   "execution_count": 13,
   "metadata": {
    "nbgrader": {
     "grade": false,
     "grade_id": "cell-878ad3a637cfb51c",
     "locked": false,
     "schema_version": 1,
     "solution": true
    }
   },
   "outputs": [
    {
     "name": "stdout",
     "output_type": "stream",
     "text": [
      "Appending to dqn_autograde.py\n"
     ]
    }
   ],
   "source": [
    "%%execwritefile -a dqn_autograde.py\n",
    "\n",
    "class EpsilonGreedyPolicy(object):\n",
    "    \"\"\"\n",
    "    A simple epsilon greedy policy.\n",
    "    \"\"\"\n",
    "    def __init__(self, Q, epsilon):\n",
    "        self.Q = Q.float()\n",
    "        self.epsilon = epsilon\n",
    "    \n",
    "    def sample_action(self, obs):\n",
    "        \"\"\"\n",
    "        This method takes a state as input and returns an action sampled from this policy.  \n",
    "\n",
    "        Args:\n",
    "            obs: current state\n",
    "\n",
    "        Returns:\n",
    "            An action (int).\n",
    "        \"\"\"\n",
    "        # YOUR CODE HERE\n",
    "        assert self.epsilon <= 1.0, 'epsilon>1 is not a valid probability!'\n",
    "        policy_choice = np.random.choice(('greedy','non-greedy'), p=[1.0-self.epsilon, self.epsilon])\n",
    "        \n",
    "        if policy_choice == 'greedy':\n",
    "            with torch.no_grad():\n",
    "#                 print(\"before logits: \",torch.tensor(obs).float() )\n",
    "                \n",
    "                logits = self.Q(torch.tensor(obs).float())\n",
    "#                 print(\"LOGITS: \",logits )\n",
    "                action = torch.argmax(logits).item()\n",
    "        elif policy_choice == 'non-greedy':\n",
    "            action = random.choice([0,1])\n",
    "        else:\n",
    "            raise NotImplementedError\n",
    "            \n",
    "        return action\n",
    "        \n",
    "    def set_epsilon(self, epsilon):\n",
    "        self.epsilon = epsilon"
   ]
  },
  {
   "cell_type": "code",
   "execution_count": 14,
   "metadata": {
    "nbgrader": {
     "grade": true,
     "grade_id": "cell-e895338d56bee477",
     "locked": true,
     "points": 1,
     "schema_version": 1,
     "solution": false
    }
   },
   "outputs": [
    {
     "name": "stdout",
     "output_type": "stream",
     "text": [
      "2\n"
     ]
    }
   ],
   "source": [
    "s = env.reset()\n",
    "epg = EpsilonGreedyPolicy(Q_net, 0.05)\n",
    "a = epg.sample_action(s)\n",
    "assert not torch.is_tensor(a)\n",
    "print (a)"
   ]
  },
  {
   "cell_type": "markdown",
   "metadata": {
    "nbgrader": {
     "grade": false,
     "grade_id": "cell-ec5e94e0b03f8aec",
     "locked": true,
     "schema_version": 1,
     "solution": false
    }
   },
   "source": [
    "### 2.4 Training function"
   ]
  },
  {
   "cell_type": "markdown",
   "metadata": {
    "nbgrader": {
     "grade": false,
     "grade_id": "cell-d1a12cc97386fe56",
     "locked": true,
     "schema_version": 1,
     "solution": false
    }
   },
   "source": [
    "Now we will implement the function 'train' that samples a batch from the memory and performs a gradient step using some convenient PyTorch functionality. However, you still need to compute the Q-values for the (state, action) pairs in the experience, as well as their target (e.g. the value they should move towards). What is the target for a Q-learning update? What should be the target if `next_state` is terminal (e.g. `done`)?\n",
    "\n",
    "For computing the Q-values for the actions, note that the model returns all action values where you are only interested in a single action value. Because of the batch dimension, you can't use simple indexing, but you may want to have a look at [torch.gather](https://pytorch.org/docs/stable/torch.html?highlight=gather#torch.gather) or use [advanced indexing](https://docs.scipy.org/doc/numpy-1.13.0/reference/arrays.indexing.html) (numpy tutorial but works mostly the same in PyTorch). Note, you should NOT modify the function train. You can view the size of a tensor `x` with `x.size()` (similar to `x.shape` in numpy)."
   ]
  },
  {
   "cell_type": "code",
   "execution_count": 15,
   "metadata": {
    "nbgrader": {
     "grade": false,
     "grade_id": "cell-6c45485324b40081",
     "locked": false,
     "schema_version": 1,
     "solution": true
    }
   },
   "outputs": [
    {
     "name": "stdout",
     "output_type": "stream",
     "text": [
      "Appending to dqn_autograde.py\n"
     ]
    }
   ],
   "source": [
    "%%execwritefile -a dqn_autograde.py\n",
    "\n",
    "def compute_q_vals(Q, states, actions):\n",
    "    \"\"\"\n",
    "    This method returns Q values for given state action pairs.\n",
    "    \n",
    "    Args:\n",
    "        Q: Q-net\n",
    "        states: a tensor of states. Shape: batch_size x obs_dim\n",
    "        actions: a tensor of actions. Shape: Shape: batch_size x 1\n",
    "\n",
    "    Returns:\n",
    "        A torch tensor filled with Q values. Shape: batch_size x 1.\n",
    "    \"\"\"\n",
    "    # YOUR CODE HERE\n",
    "#     print(\"STATES shape IS: \", states.shape)\n",
    "    qvals = Q(states)\n",
    "    q_sa = qvals.gather(1, actions)\n",
    "    return q_sa\n",
    "    \n",
    "    \n",
    "def compute_targets(Q, rewards, next_states, dones, discount_factor):\n",
    "    \"\"\"\n",
    "    This method returns targets (values towards which Q-values should move).\n",
    "    \n",
    "    Args:\n",
    "        Q: Q-net\n",
    "        rewards: a tensor of actions. Shape: Shape: batch_size x 1\n",
    "        next_states: a tensor of states. Shape: batch_size x obs_dim\n",
    "        dones: a tensor of boolean done flags (indicates if next_state is terminal) Shape: batch_size x 1\n",
    "        discount_factor: discount\n",
    "    Returns:\n",
    "        A torch tensor filled with target values. Shape: batch_size x 1.\n",
    "    \"\"\"\n",
    "    # YOUR CODE HERE\n",
    "    if dones.dtype != torch.uint8:\n",
    "        dones = torch.tensor(dones, dtype=torch.uint8)\n",
    "    q_sp = Q(next_states)\n",
    "    maxq, _ = q_sp.max(dim=1, keepdim=True)\n",
    "    targets = rewards + discount_factor * maxq * (1 - dones)\n",
    "    return targets\n",
    "\n",
    "\n",
    "def train(Q, memory, optimizer, batch_size, discount_factor, semi):\n",
    "    # DO NOT MODIFY THIS FUNCTION\n",
    "    \n",
    "    # don't learn without some decent experience\n",
    "    if len(memory) < batch_size:\n",
    "        return None\n",
    "\n",
    "    # random transition batch is taken from experience replay memory\n",
    "    transitions = memory.sample(batch_size)\n",
    "    \n",
    "    # transition is a list of 4-tuples, instead we want 4 vectors (as torch.Tensor's)\n",
    "    state, action, reward, next_state, done = zip(*transitions)\n",
    "    \n",
    "    # convert to PyTorch and define types\n",
    "    state = torch.tensor(state, dtype=torch.float)\n",
    "#     print(\"state is : \", state)\n",
    "    action = torch.tensor(action, dtype=torch.int64)[:, None]  # Need 64 bit to use them as index\n",
    "    next_state = torch.tensor(next_state, dtype=torch.float)\n",
    "    reward = torch.tensor(reward, dtype=torch.float)[:, None]\n",
    "    done = torch.tensor(done, dtype=torch.uint8)[:, None]  # Boolean\n",
    "\n",
    "    # compute the q value\n",
    "    q_val = compute_q_vals(Q, state, action)\n",
    "    if semi==True:\n",
    "        with torch.no_grad():  # Don't compute gradient info for the target (semi-gradient)\n",
    "            target = compute_targets(Q, reward, next_state, done, discount_factor)\n",
    "    else:\n",
    "        target = compute_targets(Q, reward, next_state, done, discount_factor)\n",
    "    \n",
    "    # loss is measured from error between current and newly expected Q values\n",
    "    loss = F.smooth_l1_loss(q_val, target)\n",
    "\n",
    "    # backpropagation of loss to Neural Network (PyTorch magic)\n",
    "    optimizer.zero_grad()\n",
    "    loss.backward()\n",
    "    optimizer.step()\n",
    "    \n",
    "    return loss.item()  # Returns a Python scalar, and releases history (similar to .detach())"
   ]
  },
  {
   "cell_type": "code",
   "execution_count": 16,
   "metadata": {
    "nbgrader": {
     "grade": true,
     "grade_id": "cell-b060b822eec4282f",
     "locked": true,
     "points": 2,
     "schema_version": 1,
     "solution": false
    }
   },
   "outputs": [
    {
     "name": "stdout",
     "output_type": "stream",
     "text": [
      "0.2616729438304901\n"
     ]
    }
   ],
   "source": [
    "# You may want to test your functions individually, but after you do so lets see if the method train works.\n",
    "batch_size = 64\n",
    "discount_factor = 0.8\n",
    "learn_rate = 1e-3\n",
    "# Simple gradient descent may take long, so we will use Adam\n",
    "optimizer = optim.Adam(Q_net.parameters(), learn_rate)\n",
    "\n",
    "# We need a larger memory, fill with dummy data\n",
    "transition = memory.sample(1)[0]\n",
    "memory = ReplayMemory(10 * batch_size)\n",
    "for i in range(batch_size):\n",
    "    memory.push(transition)\n",
    "\n",
    "# Now let's see if it works\n",
    "loss = train(Q_net, memory, optimizer, batch_size, discount_factor, False)\n",
    "\n",
    "print (loss)"
   ]
  },
  {
   "cell_type": "markdown",
   "metadata": {
    "nbgrader": {
     "grade": false,
     "grade_id": "cell-3eafd0ab49103f3b",
     "locked": true,
     "schema_version": 1,
     "solution": false
    }
   },
   "source": [
    "### 2.5 Put it all together"
   ]
  },
  {
   "cell_type": "markdown",
   "metadata": {
    "nbgrader": {
     "grade": false,
     "grade_id": "cell-36b8a04b393d8104",
     "locked": true,
     "schema_version": 1,
     "solution": false
    }
   },
   "source": [
    "Now that you have implemented the training step, you should be able to put everything together. Implement the function `run_episodes` that runs a number of episodes of DQN training. It should return the durations (e.g. number of steps) of each episode. Note: we pass the train function as an argument such that we can swap it for a different training step later."
   ]
  },
  {
   "cell_type": "code",
   "execution_count": 17,
   "metadata": {
    "nbgrader": {
     "grade": false,
     "grade_id": "cell-540a7d50ecc1d046",
     "locked": false,
     "schema_version": 1,
     "solution": true
    }
   },
   "outputs": [
    {
     "name": "stdout",
     "output_type": "stream",
     "text": [
      "Appending to dqn_autograde.py\n"
     ]
    }
   ],
   "source": [
    "%%execwritefile -a dqn_autograde.py\n",
    "\n",
    "def run_episodes(train, Q, policy, memory, env, num_episodes, batch_size, discount_factor, learn_rate, semi):\n",
    "    \n",
    "    optimizer = optim.Adam(Q.parameters(), learn_rate)\n",
    "    \n",
    "    global_steps = 0  # Count the steps (do not reset at episode start, to compute epsilon)\n",
    "    episode_durations = []  #\n",
    "    for i in range(num_episodes):\n",
    "        state = env.reset()\n",
    "        \n",
    "        steps = 0\n",
    "        while True:\n",
    "            # YOUR CODE HERE\n",
    "            \n",
    "            # get epsilon update\n",
    "            epsilon = get_epsilon(global_steps)\n",
    "            # update epsilon\n",
    "            policy.set_epsilon(epsilon)\n",
    "            # increment steps\n",
    "            global_steps += 1\n",
    "            steps += 1\n",
    "            \n",
    "            # sample action and store in memory\n",
    "            action = policy.sample_action(state)\n",
    "            s_next, reward, done, _ = env.step(action)\n",
    "            memory.push((state, action, reward, s_next, done))\n",
    "            loss = train(Q, memory, optimizer, batch_size, discount_factor, semi)\n",
    "            state = s_next\n",
    "            \n",
    "#             if loss != None:\n",
    "#                 print(loss)\n",
    "            \n",
    "            if done:\n",
    "                if i % 10 == 0:\n",
    "                    print(\"{2} Episode {0} finished after {1} steps\"\n",
    "                          .format(i, steps, '\\033[92m' if steps >= 195 else '\\033[99m'))\n",
    "                episode_durations.append(steps)\n",
    "                #plot_durations()\n",
    "                break\n",
    "    return episode_durations"
   ]
  },
  {
   "cell_type": "code",
   "execution_count": 22,
   "metadata": {},
   "outputs": [
    {
     "name": "stdout",
     "output_type": "stream",
     "text": [
      "\u001b[92m Episode 0 finished after 500 steps\n",
      "\u001b[92m Episode 10 finished after 500 steps\n",
      "\u001b[99m Episode 20 finished after 143 steps\n",
      "\u001b[92m Episode 30 finished after 388 steps\n",
      "\u001b[92m Episode 40 finished after 215 steps\n",
      "\u001b[92m Episode 50 finished after 256 steps\n",
      "\u001b[92m Episode 60 finished after 250 steps\n",
      "\u001b[92m Episode 70 finished after 378 steps\n",
      "\u001b[92m Episode 80 finished after 236 steps\n",
      "\u001b[92m Episode 90 finished after 358 steps\n",
      "\u001b[92m Episode 100 finished after 223 steps\n",
      "\u001b[92m Episode 110 finished after 257 steps\n",
      "\u001b[92m Episode 120 finished after 348 steps\n",
      "\u001b[92m Episode 130 finished after 267 steps\n",
      "\u001b[92m Episode 140 finished after 207 steps\n",
      "\u001b[99m Episode 150 finished after 107 steps\n",
      "\u001b[92m Episode 160 finished after 200 steps\n",
      "\u001b[92m Episode 170 finished after 279 steps\n",
      "\u001b[99m Episode 180 finished after 185 steps\n",
      "\u001b[92m Episode 190 finished after 196 steps\n",
      "\u001b[92m Episode 200 finished after 291 steps\n",
      "\u001b[92m Episode 210 finished after 342 steps\n",
      "\u001b[92m Episode 220 finished after 304 steps\n",
      "\u001b[92m Episode 230 finished after 305 steps\n",
      "\u001b[92m Episode 240 finished after 237 steps\n",
      "\u001b[92m Episode 250 finished after 365 steps\n",
      "\u001b[99m Episode 260 finished after 171 steps\n",
      "\u001b[92m Episode 270 finished after 291 steps\n",
      "\u001b[92m Episode 280 finished after 375 steps\n",
      "\u001b[92m Episode 290 finished after 312 steps\n",
      "\u001b[92m Episode 300 finished after 387 steps\n",
      "\u001b[92m Episode 310 finished after 264 steps\n",
      "\u001b[92m Episode 320 finished after 266 steps\n",
      "\u001b[92m Episode 330 finished after 500 steps\n",
      "\u001b[92m Episode 340 finished after 265 steps\n",
      "\u001b[92m Episode 350 finished after 281 steps\n",
      "\u001b[92m Episode 360 finished after 209 steps\n",
      "\u001b[99m Episode 370 finished after 166 steps\n",
      "\u001b[92m Episode 380 finished after 261 steps\n",
      "\u001b[92m Episode 390 finished after 356 steps\n",
      "\u001b[92m Episode 400 finished after 227 steps\n",
      "\u001b[92m Episode 410 finished after 263 steps\n",
      "\u001b[92m Episode 420 finished after 326 steps\n",
      "\u001b[92m Episode 430 finished after 199 steps\n",
      "\u001b[92m Episode 440 finished after 269 steps\n",
      "\u001b[99m Episode 450 finished after 155 steps\n",
      "\u001b[92m Episode 460 finished after 353 steps\n",
      "\u001b[92m Episode 470 finished after 257 steps\n",
      "\u001b[92m Episode 480 finished after 433 steps\n",
      "\u001b[92m Episode 490 finished after 242 steps\n",
      "\u001b[92m Episode 500 finished after 250 steps\n",
      "\u001b[92m Episode 510 finished after 367 steps\n",
      "\u001b[92m Episode 520 finished after 289 steps\n",
      "\u001b[92m Episode 530 finished after 482 steps\n",
      "\u001b[92m Episode 540 finished after 305 steps\n",
      "\u001b[92m Episode 550 finished after 228 steps\n",
      "\u001b[92m Episode 560 finished after 239 steps\n",
      "\u001b[92m Episode 570 finished after 235 steps\n",
      "\u001b[92m Episode 580 finished after 315 steps\n",
      "\u001b[92m Episode 590 finished after 380 steps\n",
      "\u001b[92m Episode 600 finished after 242 steps\n",
      "\u001b[92m Episode 610 finished after 223 steps\n",
      "\u001b[92m Episode 620 finished after 214 steps\n",
      "\u001b[92m Episode 630 finished after 434 steps\n",
      "\u001b[92m Episode 640 finished after 198 steps\n",
      "\u001b[92m Episode 650 finished after 293 steps\n",
      "\u001b[92m Episode 660 finished after 335 steps\n",
      "\u001b[92m Episode 670 finished after 214 steps\n",
      "\u001b[92m Episode 680 finished after 209 steps\n",
      "\u001b[92m Episode 690 finished after 254 steps\n",
      "\u001b[92m Episode 700 finished after 384 steps\n",
      "\u001b[92m Episode 710 finished after 500 steps\n",
      "\u001b[92m Episode 720 finished after 240 steps\n",
      "\u001b[99m Episode 730 finished after 168 steps\n",
      "\u001b[99m Episode 740 finished after 161 steps\n",
      "\u001b[99m Episode 750 finished after 184 steps\n",
      "\u001b[92m Episode 760 finished after 288 steps\n",
      "\u001b[92m Episode 770 finished after 500 steps\n",
      "\u001b[92m Episode 780 finished after 222 steps\n",
      "\u001b[92m Episode 790 finished after 196 steps\n",
      "\u001b[92m Episode 800 finished after 226 steps\n",
      "\u001b[92m Episode 810 finished after 335 steps\n",
      "\u001b[92m Episode 820 finished after 246 steps\n",
      "\u001b[92m Episode 830 finished after 205 steps\n",
      "\u001b[92m Episode 840 finished after 295 steps\n",
      "\u001b[92m Episode 850 finished after 407 steps\n",
      "\u001b[92m Episode 860 finished after 204 steps\n",
      "\u001b[92m Episode 870 finished after 249 steps\n",
      "\u001b[99m Episode 880 finished after 182 steps\n",
      "\u001b[92m Episode 890 finished after 243 steps\n",
      "\u001b[99m Episode 900 finished after 122 steps\n",
      "\u001b[92m Episode 910 finished after 295 steps\n",
      "\u001b[99m Episode 920 finished after 192 steps\n",
      "\u001b[92m Episode 930 finished after 210 steps\n",
      "\u001b[92m Episode 940 finished after 198 steps\n",
      "\u001b[92m Episode 950 finished after 320 steps\n",
      "\u001b[92m Episode 960 finished after 319 steps\n",
      "\u001b[99m Episode 970 finished after 191 steps\n",
      "\u001b[99m Episode 980 finished after 181 steps\n",
      "\u001b[92m Episode 990 finished after 469 steps\n",
      "it took  539.0072329044342  seconds to run the program\n"
     ]
    }
   ],
   "source": [
    "# Let's run it!\n",
    "num_episodes = 1000\n",
    "batch_size = 64\n",
    "discount_factor = 0.8\n",
    "learn_rate = 1e-3\n",
    "memory = ReplayMemory(10000)\n",
    "num_hidden = 128\n",
    "seed = 42  # This is not randomly chosen\n",
    "\n",
    "# We will seed the algorithm (before initializing QNetwork!) for reproducibility\n",
    "random.seed(seed)\n",
    "torch.manual_seed(seed)\n",
    "env.seed(seed)\n",
    "\n",
    "semi_grad = False\n",
    "\n",
    "Q_net = QNetwork(num_hidden)\n",
    "policy = EpsilonGreedyPolicy(Q_net, 0.05)\n",
    "start = time.time()\n",
    "episode_durations = run_episodes(train, Q_net, policy, memory, env, num_episodes, batch_size, discount_factor, learn_rate, semi_grad)\n",
    "end = time.time()\n",
    "print(\"it took \", end - start, \" seconds to run the program\")"
   ]
  },
  {
   "cell_type": "code",
   "execution_count": 23,
   "metadata": {
    "nbgrader": {
     "grade": true,
     "grade_id": "cell-928ecc11ed5c43d8",
     "locked": true,
     "points": 2,
     "schema_version": 1,
     "solution": false
    }
   },
   "outputs": [
    {
     "data": {
      "text/plain": [
       "Text(0.5, 1.0, 'Episode durations per episode')"
      ]
     },
     "execution_count": 23,
     "metadata": {},
     "output_type": "execute_result"
    },
    {
     "data": {
      "image/png": "[encoded data removed]",
      "text/plain": [
       "<Figure size 432x288 with 1 Axes>"
      ]
     },
     "metadata": {
      "needs_background": "light"
     },
     "output_type": "display_data"
    }
   ],
   "source": [
    "# And see the results\n",
    "def smooth(x, N):\n",
    "    cumsum = np.cumsum(np.insert(x, 0, 0)) \n",
    "    return (cumsum[N:] - cumsum[:-N]) / float(N)\n",
    "\n",
    "plt.plot(smooth(episode_durations, 10))\n",
    "plt.title('Episode durations per episode')"
   ]
  },
  {
   "cell_type": "markdown",
   "metadata": {},
   "source": [
    "If you want to test/submit your solution **restart the kernel, run all cells and submit the dqn_autograde.py file into codegrade.**"
   ]
  },
  {
   "cell_type": "code",
   "execution_count": 24,
   "metadata": {},
   "outputs": [
    {
     "name": "stdout",
     "output_type": "stream",
     "text": [
      "\u001b[92m Episode 0 finished after 500 steps\n",
      "\u001b[92m Episode 10 finished after 500 steps\n",
      "\u001b[92m Episode 20 finished after 500 steps\n",
      "\u001b[92m Episode 30 finished after 293 steps\n",
      "\u001b[92m Episode 40 finished after 500 steps\n",
      "\u001b[92m Episode 50 finished after 500 steps\n",
      "\u001b[92m Episode 60 finished after 500 steps\n",
      "\u001b[92m Episode 70 finished after 233 steps\n",
      "\u001b[92m Episode 80 finished after 243 steps\n",
      "\u001b[99m Episode 90 finished after 132 steps\n",
      "\u001b[92m Episode 100 finished after 400 steps\n",
      "\u001b[99m Episode 110 finished after 135 steps\n",
      "\u001b[92m Episode 120 finished after 238 steps\n",
      "\u001b[92m Episode 130 finished after 223 steps\n",
      "\u001b[99m Episode 140 finished after 178 steps\n",
      "\u001b[92m Episode 150 finished after 285 steps\n",
      "\u001b[92m Episode 160 finished after 500 steps\n",
      "\u001b[92m Episode 170 finished after 500 steps\n",
      "\u001b[92m Episode 180 finished after 302 steps\n",
      "\u001b[92m Episode 190 finished after 229 steps\n",
      "\u001b[92m Episode 200 finished after 500 steps\n",
      "\u001b[92m Episode 210 finished after 248 steps\n",
      "\u001b[92m Episode 220 finished after 218 steps\n",
      "\u001b[92m Episode 230 finished after 383 steps\n",
      "\u001b[92m Episode 240 finished after 424 steps\n",
      "\u001b[92m Episode 250 finished after 389 steps\n",
      "\u001b[92m Episode 260 finished after 500 steps\n",
      "\u001b[92m Episode 270 finished after 331 steps\n",
      "\u001b[92m Episode 280 finished after 500 steps\n",
      "\u001b[92m Episode 290 finished after 407 steps\n",
      "\u001b[92m Episode 300 finished after 429 steps\n",
      "\u001b[92m Episode 310 finished after 469 steps\n",
      "\u001b[92m Episode 320 finished after 368 steps\n",
      "\u001b[92m Episode 330 finished after 345 steps\n",
      "\u001b[92m Episode 340 finished after 265 steps\n",
      "\u001b[92m Episode 350 finished after 300 steps\n",
      "\u001b[92m Episode 360 finished after 243 steps\n",
      "\u001b[92m Episode 370 finished after 306 steps\n",
      "\u001b[92m Episode 380 finished after 318 steps\n",
      "\u001b[92m Episode 390 finished after 275 steps\n",
      "\u001b[92m Episode 400 finished after 278 steps\n",
      "\u001b[92m Episode 410 finished after 355 steps\n",
      "\u001b[92m Episode 420 finished after 310 steps\n",
      "\u001b[92m Episode 430 finished after 230 steps\n",
      "\u001b[92m Episode 440 finished after 297 steps\n",
      "\u001b[92m Episode 450 finished after 500 steps\n",
      "\u001b[92m Episode 460 finished after 211 steps\n",
      "\u001b[92m Episode 470 finished after 321 steps\n",
      "\u001b[92m Episode 480 finished after 280 steps\n",
      "\u001b[92m Episode 490 finished after 435 steps\n",
      "\u001b[92m Episode 500 finished after 276 steps\n",
      "\u001b[92m Episode 510 finished after 404 steps\n",
      "\u001b[92m Episode 520 finished after 253 steps\n",
      "\u001b[92m Episode 530 finished after 391 steps\n",
      "\u001b[92m Episode 540 finished after 242 steps\n",
      "\u001b[92m Episode 550 finished after 365 steps\n",
      "\u001b[92m Episode 560 finished after 380 steps\n",
      "\u001b[92m Episode 570 finished after 316 steps\n",
      "\u001b[92m Episode 580 finished after 273 steps\n",
      "\u001b[99m Episode 590 finished after 162 steps\n",
      "\u001b[92m Episode 600 finished after 202 steps\n",
      "\u001b[99m Episode 610 finished after 190 steps\n",
      "\u001b[92m Episode 620 finished after 313 steps\n",
      "\u001b[92m Episode 630 finished after 303 steps\n",
      "\u001b[92m Episode 640 finished after 295 steps\n",
      "\u001b[92m Episode 650 finished after 320 steps\n",
      "\u001b[92m Episode 660 finished after 500 steps\n",
      "\u001b[92m Episode 670 finished after 500 steps\n",
      "\u001b[92m Episode 680 finished after 412 steps\n",
      "\u001b[92m Episode 690 finished after 401 steps\n",
      "\u001b[99m Episode 700 finished after 176 steps\n",
      "\u001b[92m Episode 710 finished after 358 steps\n",
      "\u001b[92m Episode 720 finished after 222 steps\n",
      "\u001b[92m Episode 730 finished after 500 steps\n",
      "\u001b[92m Episode 740 finished after 226 steps\n",
      "\u001b[92m Episode 750 finished after 240 steps\n",
      "\u001b[92m Episode 760 finished after 275 steps\n",
      "\u001b[92m Episode 770 finished after 269 steps\n",
      "\u001b[92m Episode 780 finished after 228 steps\n",
      "\u001b[92m Episode 790 finished after 347 steps\n",
      "\u001b[92m Episode 800 finished after 328 steps\n",
      "\u001b[92m Episode 810 finished after 352 steps\n",
      "\u001b[92m Episode 820 finished after 417 steps\n",
      "\u001b[92m Episode 830 finished after 470 steps\n",
      "\u001b[92m Episode 840 finished after 500 steps\n",
      "\u001b[92m Episode 850 finished after 369 steps\n",
      "\u001b[92m Episode 860 finished after 500 steps\n",
      "\u001b[92m Episode 870 finished after 474 steps\n",
      "\u001b[92m Episode 880 finished after 399 steps\n",
      "\u001b[92m Episode 890 finished after 472 steps\n",
      "\u001b[92m Episode 900 finished after 298 steps\n",
      "\u001b[92m Episode 910 finished after 284 steps\n",
      "\u001b[92m Episode 920 finished after 384 steps\n",
      "\u001b[92m Episode 930 finished after 404 steps\n",
      "\u001b[99m Episode 940 finished after 187 steps\n",
      "\u001b[92m Episode 950 finished after 473 steps\n",
      "\u001b[92m Episode 960 finished after 197 steps\n",
      "\u001b[92m Episode 970 finished after 246 steps\n",
      "\u001b[92m Episode 980 finished after 268 steps\n",
      "\u001b[92m Episode 990 finished after 500 steps\n",
      "it took  545.2440071105957  seconds to run the program\n"
     ]
    }
   ],
   "source": [
    "# Let's run it!\n",
    "num_episodes = 1000\n",
    "batch_size = 64\n",
    "discount_factor = 0.8\n",
    "learn_rate = 1e-3\n",
    "memory = ReplayMemory(10000)\n",
    "num_hidden = 128\n",
    "seed = 42  # This is not randomly chosen\n",
    "\n",
    "# We will seed the algorithm (before initializing QNetwork!) for reproducibility\n",
    "random.seed(seed)\n",
    "torch.manual_seed(seed)\n",
    "env.seed(seed)\n",
    "\n",
    "semi_grad = True\n",
    "\n",
    "Q_net = QNetwork(num_hidden)\n",
    "policy = EpsilonGreedyPolicy(Q_net, 0.05)\n",
    "start = time.time()\n",
    "episode_durations = run_episodes(train, Q_net, policy, memory, env, num_episodes, batch_size, discount_factor, learn_rate, semi_grad)\n",
    "end = time.time()\n",
    "print(\"it took \", end - start, \" seconds to run the program\")"
   ]
  },
  {
   "cell_type": "code",
   "execution_count": 25,
   "metadata": {},
   "outputs": [
    {
     "data": {
      "text/plain": [
       "Text(0.5, 1.0, 'Episode durations per episode')"
      ]
     },
     "execution_count": 25,
     "metadata": {},
     "output_type": "execute_result"
    },
    {
     "data": {
      "image/png": "[encoded data removed]",
      "text/plain": [
       "<Figure size 432x288 with 1 Axes>"
      ]
     },
     "metadata": {
      "needs_background": "light"
     },
     "output_type": "display_data"
    }
   ],
   "source": [
    "plt.plot(smooth(episode_durations, 10))\n",
    "plt.title('Episode durations per episode')"
   ]
  },
  {
   "cell_type": "code",
   "execution_count": null,
   "metadata": {},
   "outputs": [],
   "source": []
  }
 ],
 "metadata": {
  "celltoolbar": "Create Assignment",
  "kernelspec": {
   "display_name": "Python 3",
   "language": "python",
   "name": "python3"
  },
  "language_info": {
   "codemirror_mode": {
    "name": "ipython",
    "version": 3
   },
   "file_extension": ".py",
   "mimetype": "text/x-python",
   "name": "python",
   "nbconvert_exporter": "python",
   "pygments_lexer": "ipython3",
   "version": "3.7.3"
  }
 },
 "nbformat": 4,
 "nbformat_minor": 2
}
